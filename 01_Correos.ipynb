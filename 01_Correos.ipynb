{
 "cells": [
  {
   "cell_type": "markdown",
   "metadata": {},
   "source": [
    "# <font color=yellow> Correo Electrónicos </font>\n",
    "\n",
    "<font color=white>\n",
    "\n",
    "Los drivers se deben instalar en el OS, es el medio de comunicación entre el procesador y el OS\n",
    "\n",
    "\n",
    "![Venn](Images/Correos.png)\n",
    "\n",
    "\n",
    "![Venn](Images/Correos1.png)\n"
   ]
  },
  {
   "cell_type": "markdown",
   "metadata": {},
   "source": [
    "\n",
    "<font color=white>\n",
    "\n",
    "a) Desde tu computador, en tu servidor de correo, estás redactando un email.\n",
    "\n",
    "b) Cuando acabas de escribir, le das al botón “Enter”. Este botón manda un impulso eléctrico a tu tarjeta madre, y es procesado por el CPU (Central Processing Unit).\n",
    "\n",
    "c) Mediante el Sistema Operativo (SO), la señal del CPU se identifica y reconoce. Así nuestro SO sabe lo que significa ese impulso creado por esa tecla especifica del teclado.\n",
    "\n",
    "d) Como nos encontramos en un navegador web, nuestro sistema operativo le indica que ocurrió un evento, es decir, nuestro Enter.\n",
    "\n",
    "e) Este evento lo que hace, es tomar todo lo que escribimos en nuestro correo y lo encapsula para enviarlo a un servidor, mediante protocolos ya establecidos.\n",
    "\n",
    "f) Los servidores son computadoras, y ahí se reciben estos paquetes de datos. Mediante sus bases de datos, asignan este paquete de datos al remitente correspondiente\n",
    "\n",
    "g) La persona que tiene su correo asociado a este servidor, recibe este paquete encapsulado, ya listo para leer en forma de correo electrónico.\n",
    "\n",
    "Como vez, mandar un correo electrónico es más complejo de lo que parece, pero no por eso deja de ser trivial para lo que podemos hacer actualmente.\n",
    "\n",
    "## Glosario básico necesario para entender como funciona el envío de un correo electrónico\n",
    "\n",
    "ASCII= American Standard Code for Information Interchange\n",
    "\n",
    "API= Application Program Interface\n",
    "\n",
    "AJAX= Asynchronous JavaScript and XML\n",
    "\n",
    "JSON= JavaScript Object Notation\n",
    "\n",
    "REST= Protocolo preestablecido de envio de datos= Representational State Transfer\n",
    "\n",
    "HTTPS= protocolo de transferencia de envio de datos= Hypertext Transfer Protocol\n",
    "\n",
    "FTP= File Transfer Protocol\n",
    "\n",
    "URL= Unifor Resource Locator\n",
    "\n",
    "DNS= Domain Name System\n",
    "\n",
    "IP= Internet Protocol\n",
    "\n",
    "SMTP= Simple Mail Transfer Protocol\n",
    "\n",
    "SoC= System on a Chip\n",
    "\n",
    "POP= protocolo de oficina de correo\n",
    "\n",
    "UDP= User Datagram Protocol\n",
    "\n",
    "HTML= Hypertext markup Language\n",
    "\n",
    "CSS= Cascading Style Sheets\n",
    "\n",
    "SSH= Secure SHell\n",
    "\n",
    "POP3 = Post Office Protocol"
   ]
  }
 ],
 "metadata": {
  "kernelspec": {
   "display_name": "Python 3.10.0 64-bit",
   "language": "python",
   "name": "python3"
  },
  "language_info": {
   "name": "python",
   "version": "3.10.0"
  },
  "orig_nbformat": 4,
  "vscode": {
   "interpreter": {
    "hash": "67e0cbc25fa4f5baaacba1240f401bc655b640f8e15cfc935dfee2e63491bdf4"
   }
  }
 },
 "nbformat": 4,
 "nbformat_minor": 2
}
