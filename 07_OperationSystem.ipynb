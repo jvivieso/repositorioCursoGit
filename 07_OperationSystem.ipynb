{
 "cells": [
  {
   "attachments": {},
   "cell_type": "markdown",
   "metadata": {},
   "source": [
    "# <font color=yellow> Operation System </font>\n",
    "\n",
    "<font color=white>\n",
    "\n",
    "\n",
    "\n",
    "<img src=\"Images/07_OS.png\" width=\"1200\">\n",
    "\n"
   ]
  },
  {
   "attachments": {},
   "cell_type": "markdown",
   "metadata": {},
   "source": [
    "\n",
    "## <font color=#90EE90> Permisos, niveles de procesos y privilegios de ejecución </font>\n",
    "\n",
    "<font color=white>\n",
    "\n",
    "\n",
    "<img src=\"Images/07_permisos.png\" width=\"1000\">\n"
   ]
  },
  {
   "attachments": {},
   "cell_type": "markdown",
   "metadata": {},
   "source": [
    "\n",
    "## <font color=#90EE90> OS Moviles </font>\n",
    "\n",
    "\n",
    "<img src=\"Images/07_Mobile.png\" width=\"1000\">\n"
   ]
  },
  {
   "attachments": {},
   "cell_type": "markdown",
   "metadata": {},
   "source": [
    "\n",
    "## <font color=#90EE90> Internet of Things </font>\n",
    "\n",
    "\n",
    "<img src=\"Images/07_InternetOfTHings.png\" width=\"1000\">\n"
   ]
  }
 ],
 "metadata": {
  "language_info": {
   "name": "python"
  },
  "orig_nbformat": 4
 },
 "nbformat": 4,
 "nbformat_minor": 2
}
