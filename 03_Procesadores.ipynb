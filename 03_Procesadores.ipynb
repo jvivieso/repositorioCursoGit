{
 "cells": [
  {
   "cell_type": "markdown",
   "metadata": {},
   "source": [
    "# <font color=yellow> Procesadores </font>\n",
    "\n",
    "<font color=white>\n",
    "\n",
    "\n",
    "![Venn](Images/CPU.png)\n"
   ]
  },
  {
   "cell_type": "markdown",
   "metadata": {},
   "source": [
    "\n",
    "<font color=white>\n",
    "\n",
    "Sin importar la marca o tamaño, los computadores tienen componentes principales similares. Es necesario conocer estos componentes y sus características para poder tomar una buena decisión sobre cuál comprar, basándonos en el uso que le vamos a dar.\n",
    "\n",
    "CPU - Central Processing Unit: Procesador central (con marcas como Intel, AMD). Para conocer la capacidad de tu CPU te guías por los GHz (velocidad a la que procesan una instrucción) y Cores (# de CPU’s en un mismo chip, cuantas instrucciones pueden hacer al mismo tiempo).\n",
    "\n",
    "BIOS: Chip especial que está instalado en la tarjeta madre, es un sistema operativo de arranque. Cuando arranca intenta detectar todas las cosas que están conectadas a un computador.\n",
    "\n",
    "Disco Duro: Es dónde se guarda toda la información, es dónde está el sistema operativo.\n",
    "\n",
    "RAM - Random Access Memory: Es un tipo de intermediario entre el Sistema Operativo que está en el disco duro y la CPU. Es una memoria de alta velocidad (memoria volátil), solo funciona cuando hay electricidad.\n",
    "\n",
    "Memristor: Pieza electrónica que logra guardar la onda eléctrica que pasa por ella incluso cuando se desconecta. Es posible que sea el reemplazo del disco duro y la memoria RAM en el futuro.\n",
    "\n",
    "Periféricos: Pantalla, teclado, mouse, puertos, etc.\n",
    "\n",
    "Drivers: Convierte la interacción de los accesorios periféricos en Bits y Bytes para que el computador pueda entender las instrucciones que les damos a través de ellos.\n",
    "\n",
    "GPU: Canal de comunicación entre la pantalla y la CPU. Es quién se encarga de mostrar todo en la pantalla, desde que arranca hasta reproducir videos y videojuegos."
   ]
  }
 ],
 "metadata": {
  "kernelspec": {
   "display_name": "Python 3.10.0 64-bit",
   "language": "python",
   "name": "python3"
  },
  "language_info": {
   "name": "python",
   "version": "3.10.0"
  },
  "orig_nbformat": 4,
  "vscode": {
   "interpreter": {
    "hash": "67e0cbc25fa4f5baaacba1240f401bc655b640f8e15cfc935dfee2e63491bdf4"
   }
  }
 },
 "nbformat": 4,
 "nbformat_minor": 2
}
